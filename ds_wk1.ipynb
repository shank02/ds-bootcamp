{
  "nbformat": 4,
  "nbformat_minor": 0,
  "metadata": {
    "colab": {
      "provenance": []
    },
    "kernelspec": {
      "name": "python3",
      "display_name": "Python 3"
    },
    "language_info": {
      "name": "python"
    }
  },
  "cells": [
    {
      "cell_type": "code",
      "execution_count": 1,
      "metadata": {
        "colab": {
          "base_uri": "https://localhost:8080/"
        },
        "id": "n_1feneMI6vq",
        "outputId": "a7f7dba7-f7c5-4c34-c04e-d9e8e518cbde"
      },
      "outputs": [
        {
          "output_type": "stream",
          "name": "stdout",
          "text": [
            "Enter a word: data\n",
            "2\n"
          ]
        }
      ],
      "source": [
        "def count_vowels(word):\n",
        "    vowels = \"aeiouAEIOU\"\n",
        "    count = 0\n",
        "    for char in word:\n",
        "        if char in vowels:\n",
        "            count += 1\n",
        "    return count\n",
        "\n",
        "word = input(\"Enter a word: \")\n",
        "print(count_vowels(word))\n"
      ]
    },
    {
      "cell_type": "code",
      "source": [
        "animals = ['tiger', 'elephant', 'monkey', 'zebra', 'panther']\n",
        "for animal in animals:\n",
        "    print(animal.upper())"
      ],
      "metadata": {
        "colab": {
          "base_uri": "https://localhost:8080/"
        },
        "id": "5-CGLGW9JNZe",
        "outputId": "57617dcd-135f-46a0-a844-436157e5d4b2"
      },
      "execution_count": 2,
      "outputs": [
        {
          "output_type": "stream",
          "name": "stdout",
          "text": [
            "TIGER\n",
            "ELEPHANT\n",
            "MONKEY\n",
            "ZEBRA\n",
            "PANTHER\n"
          ]
        }
      ]
    },
    {
      "cell_type": "code",
      "source": [
        "for i in range(1, 21):\n",
        "    if i % 2 == 0:\n",
        "        print(f\"{i} is even\")\n",
        "    else:\n",
        "        print(f\"{i} is odd\")"
      ],
      "metadata": {
        "colab": {
          "base_uri": "https://localhost:8080/"
        },
        "id": "Nat4edeJJYUh",
        "outputId": "d5bf0601-1b87-48e6-ed21-0de59679cda9"
      },
      "execution_count": 3,
      "outputs": [
        {
          "output_type": "stream",
          "name": "stdout",
          "text": [
            "1 is odd\n",
            "2 is even\n",
            "3 is odd\n",
            "4 is even\n",
            "5 is odd\n",
            "6 is even\n",
            "7 is odd\n",
            "8 is even\n",
            "9 is odd\n",
            "10 is even\n",
            "11 is odd\n",
            "12 is even\n",
            "13 is odd\n",
            "14 is even\n",
            "15 is odd\n",
            "16 is even\n",
            "17 is odd\n",
            "18 is even\n",
            "19 is odd\n",
            "20 is even\n"
          ]
        }
      ]
    },
    {
      "cell_type": "code",
      "source": [
        "def sum_of_integers(a, b):\n",
        "    return a + b\n",
        "\n",
        "a = int(input(\"Enter first integer: \"))\n",
        "b = int(input(\"Enter second integer: \"))\n",
        "\n",
        "print(\"Sum:\", sum_of_integers(a, b))"
      ],
      "metadata": {
        "colab": {
          "base_uri": "https://localhost:8080/"
        },
        "id": "wj3JViz_JdKy",
        "outputId": "6c303072-4849-41f4-c5f5-8c1785663ae0"
      },
      "execution_count": 4,
      "outputs": [
        {
          "output_type": "stream",
          "name": "stdout",
          "text": [
            "Enter first integer: 5\n",
            "Enter second integer: 5\n",
            "Sum: 10\n"
          ]
        }
      ]
    },
    {
      "cell_type": "code",
      "source": [],
      "metadata": {
        "id": "OHbHLdF2Js25"
      },
      "execution_count": null,
      "outputs": []
    }
  ]
}